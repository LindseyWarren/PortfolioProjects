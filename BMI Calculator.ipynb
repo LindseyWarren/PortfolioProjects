{
 "cells": [
  {
   "cell_type": "markdown",
   "id": "6e3719ef",
   "metadata": {},
   "source": [
    "# BMI Calculator\n",
    "https://mercer-health.com/services/weight-management-center/bmi-calculator#:~:text=Body%20Mass%20Index%2C%20or%20BMI,inches%20x%20height%20in%20inches\n",
    "\n",
    "## BMI = (weight in pounds x 703) / (height in inches x height in inches)"
   ]
  },
  {
   "cell_type": "code",
   "execution_count": 26,
   "id": "22a36492",
   "metadata": {},
   "outputs": [
    {
     "name": "stdout",
     "output_type": "stream",
     "text": [
      "Enter your name: Lindsey\n",
      "Enter your weight in pounds: 185\n",
      "Enter your height in inches: 69\n",
      "Lindsey, your BMI is 27.31674018063432\n",
      "Lindsey: You are overweight. Lay off the cookies!\n"
     ]
    }
   ],
   "source": [
    "name = input('Enter your name: ')\n",
    "\n",
    "weight = int(input(\"Enter your weight in pounds: \"))\n",
    "\n",
    "height = int(input(\"Enter your height in inches: \"))\n",
    "\n",
    "BMI = (weight * 703) / (height * height)\n",
    "\n",
    "print(name + ', your BMI is ' + str(BMI))\n",
    "\n",
    "  \n",
    "if BMI>0:\n",
    "    if BMI < 18.5:\n",
    "        print(name + ': You are underweight.')\n",
    "    elif BMI <= 24.9:\n",
    "        print(name + ': You are normal weight.')\n",
    "    elif BMI < 29.9:\n",
    "        print(name + ': You are overweight. Lay off the cookies!')\n",
    "    elif BMI < 34.9:\n",
    "        print(name + ': You are obese.')\n",
    "    elif BMI <39.9:\n",
    "        print(name + ': You are severely obese.')\n",
    "    else:\n",
    "        print(name + ': You are morbidly obese.')\n",
    "else:\n",
    "    print(\"Please enter valid input\")"
   ]
  },
  {
   "cell_type": "code",
   "execution_count": null,
   "id": "03df4103",
   "metadata": {
    "scrolled": true
   },
   "outputs": [],
   "source": [
    "\n"
   ]
  },
  {
   "cell_type": "code",
   "execution_count": null,
   "id": "39a5aed8",
   "metadata": {},
   "outputs": [],
   "source": []
  },
  {
   "cell_type": "code",
   "execution_count": null,
   "id": "b5df03f5",
   "metadata": {},
   "outputs": [],
   "source": []
  },
  {
   "cell_type": "code",
   "execution_count": null,
   "id": "6517d859",
   "metadata": {},
   "outputs": [],
   "source": []
  },
  {
   "cell_type": "code",
   "execution_count": null,
   "id": "a5b6c58b",
   "metadata": {},
   "outputs": [],
   "source": []
  }
 ],
 "metadata": {
  "kernelspec": {
   "display_name": "Python 3",
   "language": "python",
   "name": "python3"
  },
  "language_info": {
   "codemirror_mode": {
    "name": "ipython",
    "version": 3
   },
   "file_extension": ".py",
   "mimetype": "text/x-python",
   "name": "python",
   "nbconvert_exporter": "python",
   "pygments_lexer": "ipython3",
   "version": "3.8.8"
  }
 },
 "nbformat": 4,
 "nbformat_minor": 5
}
